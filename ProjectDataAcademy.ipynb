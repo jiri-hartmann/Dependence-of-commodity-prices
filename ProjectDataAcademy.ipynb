{
 "cells": [
  {
   "cell_type": "markdown",
   "metadata": {},
   "source": [
    "# Dependence of commodity prices on the Prague stock exchange\n",
    "## Project for Data Academy - Engeto 2020-11-01\n",
    "Dependence on:\n",
    "- price of oil, electricity, gas \n",
    "- exchange rate, interest rate, inflation\n",
    "- important public events (covid, election)\n",
    "\n",
    "### Data source:\n",
    "commodity prices: http://ftp.pse.cz/Results.ak/\n"
   ]
  },
  {
   "cell_type": "code",
   "execution_count": 53,
   "metadata": {},
   "outputs": [],
   "source": [
    "%run Import_from_PSE.py"
   ]
  },
  {
   "cell_type": "code",
   "execution_count": 52,
   "metadata": {},
   "outputs": [],
   "source": [
    "%run Import_from_CNB.py"
   ]
  },
  {
   "cell_type": "code",
   "execution_count": 55,
   "metadata": {},
   "outputs": [],
   "source": [
    "#!/usr/bin/python\n",
    "\"\"\" Download exchange rates inforation from CNB server (www.cnb.cz) and upload to local database named ades. \n",
    "    Program find day of last entry to db., download  and import next days up to today. \n",
    "\"\"\"\n",
    "\n",
    "import datetime as dt\n",
    "import pandas as pd\n",
    "import sys\n",
    "from make_mysql_connection import make_mysql_connection\n",
    "\n",
    "\n",
    "CNB_ER_COLUMNS = {\"Datum\":\"Date\", \"1 AUD\":\"AUD\", \"1 BGN\":\"BGN\", \"1 BRL\":\"BRL\", \"1 CAD\":\"CAD\", \"1 CHF\":\"CHF\", \n",
    "                  \"1 CNY\":\"CNY\", \"1 DKK\":\"DKK\", \"1 EUR\":\"EUR\", \"1 GBP\":\"GBP\", \"1 HKD\":\"HKD\", \n",
    "                  \"1 HRK\":\"HRK\", \"100 HUF\":\"HUF100\", \"1000 IDR\":\"IDR1000\", \"1 ILS\":\"ILS\", \n",
    "                  \"100 INR\":\"INR100\", \"100 ISK\":\"ISK100\", \"100 JPY\":\"JPY100\", \"100 KRW\":\"KRW100\", \n",
    "                  \"1 MXN\":\"MXN\", \"1 MYR\":\"MYR\", \"1 NOK\":\"NOK\", \"1 NZD\":\"NZD\", \"100 PHP\":\"PHP100\", \n",
    "                  \"1 PLN\":\"PLN\", \"1 RON\":\"RON\", \"100 RUB\":\"RUB100\", \"1 SEK\":\"SEK\", \"1 SGD\":\"SGD\", \n",
    "                  \"100 THB\":\"THB100\", \"1 TRY\":\"TRY\", \"1 USD\":\"USD\", \"1 XDR\":\"XDR\", \"1 ZAR\":\"ZAR\"}  \n",
    "                   # definition of pse_ak table\n",
    "\n",
    "try:\n",
    "    alchemy_conn = make_mysql_connection()   \n",
    "    first_day_for_import = alchemy_conn.execute(\"select max(`date`) from cnb_er\").fetchone()[0] + dt.timedelta(days=1)\n",
    "except:\n",
    "    print(\"Connection to database failed\")\n",
    "    sys.exit(0)    \n",
    "\n",
    "try:\n",
    "    year = first_day_for_import.strftime('%Y')\n",
    "    connect_string = (f\"https://www.cnb.cz/cs/financni-trhy/devizovy-trh/kurzy-devizoveho-trhu/kurzy-devizoveho-trhu/rok.txt?rok={year}\")\n",
    "    cnb_er = pd.read_table(connect_string, sep=\"|\", decimal=\",\")\n",
    "except:\n",
    "    print(\"CNB: connection to server failed.\")\n",
    "    sys.exit(0)\n",
    "\n",
    "cnb_er = cnb_er.rename(CNB_ER_COLUMNS, axis=1, errors=\"raise\")  # name column is the same as in database\n",
    "                                                # used for check if column are not changed between years\n",
    "cnb_er['Date'] = pd.to_datetime(cnb_er.Date, format='%d.%m.%Y') # convert to yyyy-mm-dd \n",
    "\n",
    "cnb_er.set_index(\"Date\", inplace = True)                        \n",
    "cnb_er = cnb_er.loc[first_day_for_import : dt.date.today()]     # select for import only new days\n",
    "\n",
    "cnb_er.to_sql(\"cnb_er\", alchemy_conn, if_exists= \"append\") \n",
    "if not cnb_er.empty:\n",
    "    pd.set_option('display.max_rows', 50)\n",
    "    pd.set_option('display.max_columns', 1000)\n",
    "    pd.set_option('display.width', 1000)\n",
    "    print(cnb_er[[\"EUR\", \"USD\"]])\n"
   ]
  },
  {
   "cell_type": "code",
   "execution_count": null,
   "metadata": {},
   "outputs": [],
   "source": []
  },
  {
   "cell_type": "code",
   "execution_count": null,
   "metadata": {},
   "outputs": [],
   "source": []
  }
 ],
 "metadata": {
  "kernelspec": {
   "display_name": "Python 3",
   "language": "python",
   "name": "python3"
  },
  "language_info": {
   "codemirror_mode": {
    "name": "ipython",
    "version": 3
   },
   "file_extension": ".py",
   "mimetype": "text/x-python",
   "name": "python",
   "nbconvert_exporter": "python",
   "pygments_lexer": "ipython3",
   "version": "3.8.3"
  }
 },
 "nbformat": 4,
 "nbformat_minor": 4
}
